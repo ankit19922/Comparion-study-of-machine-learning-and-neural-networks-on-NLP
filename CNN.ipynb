{
 "cells": [
  {
   "cell_type": "code",
   "execution_count": 1,
   "metadata": {},
   "outputs": [
    {
     "name": "stderr",
     "output_type": "stream",
     "text": [
      "Using TensorFlow backend.\n"
     ]
    }
   ],
   "source": [
    "import pandas as pd\n",
    "import re\n",
    "from textblob import TextBlob\n",
    "import glob\n",
    "import numpy as np\n",
    "from sklearn.model_selection import train_test_split\n",
    "from keras.preprocessing.text import Tokenizer\n",
    "from keras.preprocessing.sequence import pad_sequences\n",
    "from numpy import array\n",
    "from numpy import asarray\n",
    "from numpy import zeros\n",
    "from keras.layers.embeddings import Embedding\n",
    "from keras.layers import GlobalMaxPooling1D\n",
    "from keras.models import Sequential\n",
    "from keras.layers.core import Activation, Dropout, Dense\n",
    "from keras.layers import Flatten\n",
    "from keras.layers.convolutional import Conv1D\n",
    "from keras.layers.recurrent import LSTM\n",
    "from sklearn.feature_extraction.text import TfidfTransformer\n",
    "from sklearn.feature_extraction.text import TfidfVectorizer\n",
    "%matplotlib inline\n",
    "import matplotlib.pyplot as plt\n",
    "from nltk.corpus import stopwords\n",
    "from nltk.stem.wordnet import WordNetLemmatizer\n",
    "from sklearn.metrics import classification_report\n",
    "from sklearn.metrics import roc_curve\n",
    "from sklearn.metrics import precision_recall_curve \n",
    "from sklearn.metrics import average_precision_score\n",
    "from sklearn.metrics import roc_auc_score\n",
    "from sklearn.metrics import confusion_matrix\n",
    "import seaborn as sns\n",
    "from sklearn.metrics import accuracy_score, f1_score, confusion_matrix\n",
    "from sklearn.metrics import accuracy_score"
   ]
  },
  {
   "cell_type": "code",
   "execution_count": 2,
   "metadata": {},
   "outputs": [
    {
     "name": "stdout",
     "output_type": "stream",
     "text": [
      "                                              Review     Label\n",
      "0  As much as I love the story of David Copperfie...  Negative\n",
      "1  I was lucky enough to see a test screening of ...  Positive\n",
      "2  I greatly enjoyed Margaret Atwood's novel 'The...  Negative\n",
      "3  Would it surprise you that my ears and eyes al...  Negative\n",
      "4  This is a poor caricature of \"Lonesome Dove\" -...  Negative\n"
     ]
    }
   ],
   "source": [
    "data=pd.read_csv(\"ReviewSentiments.csv\")\n",
    "print(data.head())"
   ]
  },
  {
   "cell_type": "code",
   "execution_count": 3,
   "metadata": {},
   "outputs": [
    {
     "data": {
      "text/html": [
       "<div>\n",
       "<style scoped>\n",
       "    .dataframe tbody tr th:only-of-type {\n",
       "        vertical-align: middle;\n",
       "    }\n",
       "\n",
       "    .dataframe tbody tr th {\n",
       "        vertical-align: top;\n",
       "    }\n",
       "\n",
       "    .dataframe thead th {\n",
       "        text-align: right;\n",
       "    }\n",
       "</style>\n",
       "<table border=\"1\" class=\"dataframe\">\n",
       "  <thead>\n",
       "    <tr style=\"text-align: right;\">\n",
       "      <th></th>\n",
       "      <th>Review</th>\n",
       "      <th>Label</th>\n",
       "    </tr>\n",
       "  </thead>\n",
       "  <tbody>\n",
       "    <tr>\n",
       "      <td>count</td>\n",
       "      <td>62500</td>\n",
       "      <td>62500</td>\n",
       "    </tr>\n",
       "    <tr>\n",
       "      <td>unique</td>\n",
       "      <td>49582</td>\n",
       "      <td>2</td>\n",
       "    </tr>\n",
       "    <tr>\n",
       "      <td>top</td>\n",
       "      <td>I see that C. Thomas Howell has appeared in ma...</td>\n",
       "      <td>Negative</td>\n",
       "    </tr>\n",
       "    <tr>\n",
       "      <td>freq</td>\n",
       "      <td>6</td>\n",
       "      <td>37500</td>\n",
       "    </tr>\n",
       "  </tbody>\n",
       "</table>\n",
       "</div>"
      ],
      "text/plain": [
       "                                                   Review     Label\n",
       "count                                               62500     62500\n",
       "unique                                              49582         2\n",
       "top     I see that C. Thomas Howell has appeared in ma...  Negative\n",
       "freq                                                    6     37500"
      ]
     },
     "execution_count": 3,
     "metadata": {},
     "output_type": "execute_result"
    }
   ],
   "source": [
    "#Describing the dataset used\n",
    "data.describe()"
   ]
  },
  {
   "cell_type": "code",
   "execution_count": 4,
   "metadata": {},
   "outputs": [
    {
     "data": {
      "text/plain": [
       "Review    object\n",
       "Label     object\n",
       "dtype: object"
      ]
     },
     "execution_count": 4,
     "metadata": {},
     "output_type": "execute_result"
    }
   ],
   "source": [
    "#Datatype of Dataset\n",
    "data.dtypes"
   ]
  },
  {
   "cell_type": "code",
   "execution_count": 5,
   "metadata": {},
   "outputs": [
    {
     "data": {
      "text/plain": [
       "(62500, 2)"
      ]
     },
     "execution_count": 5,
     "metadata": {},
     "output_type": "execute_result"
    }
   ],
   "source": [
    "#Total columns and Rows in dataset\n",
    "data.shape"
   ]
  },
  {
   "cell_type": "code",
   "execution_count": 6,
   "metadata": {},
   "outputs": [
    {
     "data": {
      "text/plain": [
       "\"I greatly enjoyed Margaret Atwood's novel 'The Robber Bride', and I was thrilled to see there was a movie version. A woman frames a cop boyfriend for her own murder, and his buddy, an ex-cop journalist, tries to clear his name by checking up on the dead woman's crazy female friends. It's fortunate that the movie script fixes Ms. Atwood's clumsy plotting by focusing on the story of these two men, victims of scheming women...<br /><br />Heh. Okay, you got me. If these guys are mentioned in the book, and I'm pretty sure they're entirely made up for the movie, I'll eat the dust cover of my hardback copy. Apparently, the three main female characters of the novel aren't enough to carry the movie. Zenia's manipulations aren't interesting unless we see them happen to a man, and a man's life is screwed up. Roz, Charis, and Toni tell their stories -- to a man. Because it's not important if a man doesn't hear them.<br /><br />I liked the characters in the book. It hurts to see them pushed off to the side for a man's story. I normally do not look for feminist angles on media, and I tried to enjoy the movie as is. If I hadn't read the book, I might have enjoyed the movie a lot more. So if you like the cop and the ex-cop, and you want to read more about them, you're out of luck. Read the novel, if you want to enjoy luscious prose and characterization subtly layered through a plot. It's the same plot: the movie excavated it, ironed it, and sprinkled it with male angst. It's like Zenia's revenge on Margaret Atwood.\""
      ]
     },
     "execution_count": 6,
     "metadata": {},
     "output_type": "execute_result"
    }
   ],
   "source": [
    "#Uncleaned-data\n",
    "data['Review'][2]"
   ]
  },
  {
   "cell_type": "code",
   "execution_count": 7,
   "metadata": {},
   "outputs": [
    {
     "data": {
      "text/html": [
       "<div>\n",
       "<style scoped>\n",
       "    .dataframe tbody tr th:only-of-type {\n",
       "        vertical-align: middle;\n",
       "    }\n",
       "\n",
       "    .dataframe tbody tr th {\n",
       "        vertical-align: top;\n",
       "    }\n",
       "\n",
       "    .dataframe thead th {\n",
       "        text-align: right;\n",
       "    }\n",
       "</style>\n",
       "<table border=\"1\" class=\"dataframe\">\n",
       "  <thead>\n",
       "    <tr style=\"text-align: right;\">\n",
       "      <th></th>\n",
       "      <th>Review</th>\n",
       "      <th>Label</th>\n",
       "    </tr>\n",
       "  </thead>\n",
       "  <tbody>\n",
       "    <tr>\n",
       "      <td>count</td>\n",
       "      <td>49582</td>\n",
       "      <td>49582</td>\n",
       "    </tr>\n",
       "    <tr>\n",
       "      <td>unique</td>\n",
       "      <td>49582</td>\n",
       "      <td>2</td>\n",
       "    </tr>\n",
       "    <tr>\n",
       "      <td>top</td>\n",
       "      <td>After seeing a heavily censored version of thi...</td>\n",
       "      <td>Positive</td>\n",
       "    </tr>\n",
       "    <tr>\n",
       "      <td>freq</td>\n",
       "      <td>1</td>\n",
       "      <td>24884</td>\n",
       "    </tr>\n",
       "  </tbody>\n",
       "</table>\n",
       "</div>"
      ],
      "text/plain": [
       "                                                   Review     Label\n",
       "count                                               49582     49582\n",
       "unique                                              49582         2\n",
       "top     After seeing a heavily censored version of thi...  Positive\n",
       "freq                                                    1     24884"
      ]
     },
     "execution_count": 7,
     "metadata": {},
     "output_type": "execute_result"
    }
   ],
   "source": [
    "#Dropping Duplicate data\n",
    "data.drop_duplicates(keep=\"first\",inplace=True)\n",
    "data.describe()\n"
   ]
  },
  {
   "cell_type": "code",
   "execution_count": 8,
   "metadata": {},
   "outputs": [],
   "source": [
    "#Cleaning Data\n",
    "Cleaned_reviews=[]\n",
    "for x in (data['Review']):\n",
    "    #removing Tags\n",
    "    text=re.sub(r'<.*?>',\" \",x)\n",
    "    #Removing special characters\n",
    "    text=re.sub(r\"[^a-zA-Z0-9]+\",\" \", text)\n",
    "    # removing digits\n",
    "    text=re.sub(\"\\d\", \" \", text)\n",
    "    # removing puntutation\n",
    "    text=re.sub(r'[^\\w\\s]', ' ', text)\n",
    "    #removing single spaces\n",
    "    text=re.sub(r'\\s+', ' ', text)\n",
    "    #Removing single characters\n",
    "    text=re.sub(r\"\\s+[a-zA-Z]\\s+\", ' ', text)\n",
    "\n",
    "\n",
    "    if text!=\"\":\n",
    "        Cleaned_reviews.append(text)\n",
    "    else:\n",
    "        pass"
   ]
  },
  {
   "cell_type": "code",
   "execution_count": 9,
   "metadata": {},
   "outputs": [
    {
     "data": {
      "text/plain": [
       "'I greatly enjoyed Margaret Atwood novel The Robber Bride and was thrilled to see there was movie version woman frames cop boyfriend for her own murder and his buddy an ex cop journalist tries to clear his name by checking up on the dead woman crazy female friends It fortunate that the movie script fixes Ms Atwood clumsy plotting by focusing on the story of these two men victims of scheming women Heh Okay you got me If these guys are mentioned in the book and m pretty sure they re entirely made up for the movie ll eat the dust cover of my hardback copy Apparently the three main female characters of the novel aren enough to carry the movie Zenia manipulations aren interesting unless we see them happen to man and man life is screwed up Roz Charis and Toni tell their stories to man Because it not important if man doesn hear them liked the characters in the book It hurts to see them pushed off to the side for man story normally do not look for feminist angles on media and tried to enjoy the movie as is If hadn read the book might have enjoyed the movie lot more So if you like the cop and the ex cop and you want to read more about them you re out of luck Read the novel if you want to enjoy luscious prose and characterization subtly layered through plot It the same plot the movie excavated it ironed it and sprinkled it with male angst It like Zenia revenge on Margaret Atwood '"
      ]
     },
     "execution_count": 9,
     "metadata": {},
     "output_type": "execute_result"
    }
   ],
   "source": [
    "#Data got cleaned\n",
    "#Cleaned_reviews= [str(i).lower() for i in Cleaned_reviews] \n",
    "Cleaned_reviews[2]"
   ]
  },
  {
   "cell_type": "code",
   "execution_count": 10,
   "metadata": {},
   "outputs": [],
   "source": [
    "#Creating new DataFrame with new column textblob label\n",
    "label_list=[]\n",
    "label=[\"Review\",\"Label\"]\n",
    "for c in (data['Label']):\n",
    "    label_list.append(c)\n",
    "    \n",
    "final_data=list(zip(Cleaned_reviews,label_list))\n",
    "New_df=pd.DataFrame(final_data,columns=label)\n",
    "New_df.to_csv(\"FinalMovieReviews.csv\",index=False)\n",
    "        "
   ]
  },
  {
   "cell_type": "code",
   "execution_count": 11,
   "metadata": {},
   "outputs": [
    {
     "data": {
      "text/html": [
       "<div>\n",
       "<style scoped>\n",
       "    .dataframe tbody tr th:only-of-type {\n",
       "        vertical-align: middle;\n",
       "    }\n",
       "\n",
       "    .dataframe tbody tr th {\n",
       "        vertical-align: top;\n",
       "    }\n",
       "\n",
       "    .dataframe thead th {\n",
       "        text-align: right;\n",
       "    }\n",
       "</style>\n",
       "<table border=\"1\" class=\"dataframe\">\n",
       "  <thead>\n",
       "    <tr style=\"text-align: right;\">\n",
       "      <th></th>\n",
       "      <th>Review</th>\n",
       "      <th>Label</th>\n",
       "    </tr>\n",
       "  </thead>\n",
       "  <tbody>\n",
       "    <tr>\n",
       "      <td>0</td>\n",
       "      <td>As much as love the story of David Copperfield...</td>\n",
       "      <td>Negative</td>\n",
       "    </tr>\n",
       "    <tr>\n",
       "      <td>1</td>\n",
       "      <td>I was lucky enough to see test screening of El...</td>\n",
       "      <td>Positive</td>\n",
       "    </tr>\n",
       "    <tr>\n",
       "      <td>2</td>\n",
       "      <td>I greatly enjoyed Margaret Atwood novel The Ro...</td>\n",
       "      <td>Negative</td>\n",
       "    </tr>\n",
       "    <tr>\n",
       "      <td>3</td>\n",
       "      <td>Would it surprise you that my ears and eyes al...</td>\n",
       "      <td>Negative</td>\n",
       "    </tr>\n",
       "    <tr>\n",
       "      <td>4</td>\n",
       "      <td>This is poor caricature of Lonesome Dove and L...</td>\n",
       "      <td>Negative</td>\n",
       "    </tr>\n",
       "    <tr>\n",
       "      <td>...</td>\n",
       "      <td>...</td>\n",
       "      <td>...</td>\n",
       "    </tr>\n",
       "    <tr>\n",
       "      <td>49577</td>\n",
       "      <td>I couldn believe my eyes when watched Nurember...</td>\n",
       "      <td>Negative</td>\n",
       "    </tr>\n",
       "    <tr>\n",
       "      <td>49578</td>\n",
       "      <td>The feature length CGI movie has just been rel...</td>\n",
       "      <td>Positive</td>\n",
       "    </tr>\n",
       "    <tr>\n",
       "      <td>49579</td>\n",
       "      <td>This is so incredibly bad Poor actors You can ...</td>\n",
       "      <td>Negative</td>\n",
       "    </tr>\n",
       "    <tr>\n",
       "      <td>49580</td>\n",
       "      <td>Though saw this movie years ago its impact has...</td>\n",
       "      <td>Positive</td>\n",
       "    </tr>\n",
       "    <tr>\n",
       "      <td>49581</td>\n",
       "      <td>This is one of those movies which get better w...</td>\n",
       "      <td>Positive</td>\n",
       "    </tr>\n",
       "  </tbody>\n",
       "</table>\n",
       "<p>49582 rows × 2 columns</p>\n",
       "</div>"
      ],
      "text/plain": [
       "                                                  Review     Label\n",
       "0      As much as love the story of David Copperfield...  Negative\n",
       "1      I was lucky enough to see test screening of El...  Positive\n",
       "2      I greatly enjoyed Margaret Atwood novel The Ro...  Negative\n",
       "3      Would it surprise you that my ears and eyes al...  Negative\n",
       "4      This is poor caricature of Lonesome Dove and L...  Negative\n",
       "...                                                  ...       ...\n",
       "49577  I couldn believe my eyes when watched Nurember...  Negative\n",
       "49578  The feature length CGI movie has just been rel...  Positive\n",
       "49579  This is so incredibly bad Poor actors You can ...  Negative\n",
       "49580  Though saw this movie years ago its impact has...  Positive\n",
       "49581  This is one of those movies which get better w...  Positive\n",
       "\n",
       "[49582 rows x 2 columns]"
      ]
     },
     "execution_count": 11,
     "metadata": {},
     "output_type": "execute_result"
    }
   ],
   "source": [
    "final_data=pd.read_csv(\"FinalMovieReviews.csv\")\n",
    "final_data"
   ]
  },
  {
   "cell_type": "code",
   "execution_count": 12,
   "metadata": {},
   "outputs": [],
   "source": [
    "#Converting labels into \"0\" and \"1\" \n",
    "label_encoding=[]\n",
    "for z in data['Label']:\n",
    "    if z==\"Positive\":\n",
    "        label_encoding.append(1)\n",
    "    else:\n",
    "        label_encoding.append(0)\n",
    "y=np.array(label_encoding)\n",
    "\n",
    "\n",
    "\n"
   ]
  },
  {
   "cell_type": "code",
   "execution_count": 13,
   "metadata": {},
   "outputs": [
    {
     "data": {
      "text/plain": [
       "array([0, 1, 0, ..., 0, 1, 1])"
      ]
     },
     "execution_count": 13,
     "metadata": {},
     "output_type": "execute_result"
    }
   ],
   "source": [
    "y"
   ]
  },
  {
   "cell_type": "code",
   "execution_count": 14,
   "metadata": {},
   "outputs": [],
   "source": [
    "# english_stop_words = stopwords.words('english')\n",
    "# final_data['Review']=final_data['Review'].str.lower().str.split()\n",
    "# final_data['Review']=final_data['Review'].apply(lambda x:' '.join([item for item in x if item not in english_stop_words]))\n",
    "\n",
    "# lmtzr=WordNetLemmatizer()\n",
    "# final_data['Review']=final_data['Review'].apply(lambda x:' '.join([lmtzr.lemmatize(word,'v') for word in x.split()]))\n",
    "\n",
    "\n"
   ]
  },
  {
   "cell_type": "code",
   "execution_count": 15,
   "metadata": {},
   "outputs": [],
   "source": [
    "X=[]\n",
    "for t in final_data['Review']:\n",
    "    X.append(t)\n"
   ]
  },
  {
   "cell_type": "code",
   "execution_count": 16,
   "metadata": {},
   "outputs": [
    {
     "data": {
      "text/plain": [
       "'Dirty Sanchez is the more extreme British version of Jackass in which the four boys Pritchard Dainton Joycey and Pancho go to great lengths to hurt and humiliate each other The reason this show is better than Jackass is because most of the stunts are not planned which makes the reaction much more funny There are series of the show the first follows them around and takes long look at their lives eg there an episode on their love lives jobs etc The second series sends the boys to try out different occupations The third follows their European tour It seems that the boys get more and more daring as the show progresses through the series In my opinion the third series is the best but trust me when say if you have week stomach DO NOT WATCH as you are lightly to see fair amount of blood and puke in every episode '"
      ]
     },
     "execution_count": 16,
     "metadata": {},
     "output_type": "execute_result"
    }
   ],
   "source": [
    "X[10]"
   ]
  },
  {
   "cell_type": "code",
   "execution_count": 17,
   "metadata": {},
   "outputs": [],
   "source": [
    "X_train, X_test, y_train, y_test = train_test_split(X, y, test_size=0.25, random_state=42)"
   ]
  },
  {
   "cell_type": "code",
   "execution_count": 18,
   "metadata": {},
   "outputs": [],
   "source": [
    "#Tokenizer\n",
    "tokenizer = Tokenizer(num_words=50000)\n",
    "tokenizer.fit_on_texts(X_train)\n",
    "# vectorizer = TfidfVectorizer(min_df=2, ngram_range=(1, 2), stop_words='english', max_features= 10000,strip_accents='unicode', norm='l2')\n",
    "\n",
    "X_train = tokenizer.texts_to_sequences(X_train)\n",
    "\n",
    "# tfidf = TfidfVectorizer(binary=True)\n",
    "# X_train=tfidf.fit_transform(X_train)\n",
    "\n",
    "X_test = tokenizer.texts_to_sequences(X_test)\n"
   ]
  },
  {
   "cell_type": "code",
   "execution_count": 19,
   "metadata": {},
   "outputs": [
    {
     "data": {
      "text/plain": [
       "37186"
      ]
     },
     "execution_count": 19,
     "metadata": {},
     "output_type": "execute_result"
    }
   ],
   "source": [
    "len(X_train)"
   ]
  },
  {
   "cell_type": "code",
   "execution_count": 20,
   "metadata": {},
   "outputs": [
    {
     "data": {
      "text/plain": [
       "12396"
      ]
     },
     "execution_count": 20,
     "metadata": {},
     "output_type": "execute_result"
    }
   ],
   "source": [
    "len(X_test)"
   ]
  },
  {
   "cell_type": "code",
   "execution_count": 21,
   "metadata": {},
   "outputs": [],
   "source": [
    "#pad sequence\n",
    "vocab_size = len(tokenizer.word_index) + 1\n",
    "#vocab_size\n",
    "\n",
    "maxlen = 500\n",
    "\n",
    "X_train = pad_sequences(X_train, padding='post', maxlen=maxlen)\n",
    "#X_train\n",
    "X_test = pad_sequences(X_test, padding='post', maxlen=maxlen)"
   ]
  },
  {
   "cell_type": "code",
   "execution_count": 22,
   "metadata": {},
   "outputs": [],
   "source": [
    "#Glove\n",
    "embeddings_dictionary = dict()\n",
    "glove_file = open('glove.6B.100d.txt', encoding=\"utf8\")\n",
    "\n",
    "for line in glove_file:\n",
    "    records = line.split()\n",
    "    word = records[0]\n",
    "    vector_dimensions = asarray(records[1:], dtype='float32')\n",
    "    embeddings_dictionary [word] = vector_dimensions\n",
    "glove_file.close()"
   ]
  },
  {
   "cell_type": "code",
   "execution_count": 23,
   "metadata": {},
   "outputs": [],
   "source": [
    "embedding_matrix = zeros((vocab_size, 100))\n",
    "for word, index in tokenizer.word_index.items():\n",
    "    embedding_vector = embeddings_dictionary.get(word)\n",
    "    if embedding_vector is not None:\n",
    "        embedding_matrix[index] = embedding_vector"
   ]
  },
  {
   "cell_type": "code",
   "execution_count": 31,
   "metadata": {},
   "outputs": [
    {
     "data": {
      "text/plain": [
       "array([[ 0.        ,  0.        ,  0.        , ...,  0.        ,\n",
       "         0.        ,  0.        ],\n",
       "       [-0.038194  , -0.24487001,  0.72812003, ..., -0.1459    ,\n",
       "         0.82779998,  0.27061999],\n",
       "       [-0.071953  ,  0.23127   ,  0.023731  , ..., -0.71894997,\n",
       "         0.86894   ,  0.19539   ],\n",
       "       ...,\n",
       "       [ 0.026752  ,  0.57730001,  0.211     , ...,  0.77636999,\n",
       "         0.43457001,  0.33961001],\n",
       "       [ 0.        ,  0.        ,  0.        , ...,  0.        ,\n",
       "         0.        ,  0.        ],\n",
       "       [ 0.076351  ,  0.50613999,  0.25558999, ...,  0.70826   ,\n",
       "        -0.33695   ,  0.25573   ]])"
      ]
     },
     "execution_count": 31,
     "metadata": {},
     "output_type": "execute_result"
    }
   ],
   "source": [
    "embedding_matrix"
   ]
  },
  {
   "cell_type": "code",
   "execution_count": 42,
   "metadata": {},
   "outputs": [],
   "source": [
    "model = Sequential()\n",
    "\n",
    "embedding_layer = Embedding(vocab_size, 100, weights=[embedding_matrix], input_length=maxlen , trainable=False)\n",
    "model.add(embedding_layer)\n",
    "\n",
    "model.add(Conv1D(128, 5, activation='relu'))\n",
    "model.add(Dropout(0.5))\n",
    "model.add(GlobalMaxPooling1D())\n",
    "model.add(Dense(1, activation='sigmoid'))\n",
    "model.compile(optimizer='adam', loss='binary_crossentropy', metrics=['acc'])"
   ]
  },
  {
   "cell_type": "code",
   "execution_count": 43,
   "metadata": {},
   "outputs": [
    {
     "name": "stdout",
     "output_type": "stream",
     "text": [
      "Model: \"sequential_4\"\n",
      "_________________________________________________________________\n",
      "Layer (type)                 Output Shape              Param #   \n",
      "=================================================================\n",
      "embedding_4 (Embedding)      (None, 500, 100)          8825700   \n",
      "_________________________________________________________________\n",
      "conv1d_4 (Conv1D)            (None, 496, 128)          64128     \n",
      "_________________________________________________________________\n",
      "dropout_3 (Dropout)          (None, 496, 128)          0         \n",
      "_________________________________________________________________\n",
      "global_max_pooling1d_4 (Glob (None, 128)               0         \n",
      "_________________________________________________________________\n",
      "dense_4 (Dense)              (None, 1)                 129       \n",
      "=================================================================\n",
      "Total params: 8,889,957\n",
      "Trainable params: 64,257\n",
      "Non-trainable params: 8,825,700\n",
      "_________________________________________________________________\n"
     ]
    }
   ],
   "source": [
    "(model.summary())"
   ]
  },
  {
   "cell_type": "code",
   "execution_count": 44,
   "metadata": {},
   "outputs": [
    {
     "name": "stdout",
     "output_type": "stream",
     "text": [
      "Train on 27889 samples, validate on 9297 samples\n",
      "Epoch 1/8\n",
      "27889/27889 [==============================] - 78s 3ms/step - loss: 0.5256 - acc: 0.7368 - val_loss: 0.4383 - val_acc: 0.8347\n",
      "Epoch 2/8\n",
      "27889/27889 [==============================] - 82s 3ms/step - loss: 0.3566 - acc: 0.8443 - val_loss: 0.3755 - val_acc: 0.8573\n",
      "Epoch 3/8\n",
      "27889/27889 [==============================] - 81s 3ms/step - loss: 0.3117 - acc: 0.8693 - val_loss: 0.3491 - val_acc: 0.8682\n",
      "Epoch 4/8\n",
      "27889/27889 [==============================] - 82s 3ms/step - loss: 0.2862 - acc: 0.8820 - val_loss: 0.3349 - val_acc: 0.8753\n",
      "Epoch 5/8\n",
      "27889/27889 [==============================] - 84s 3ms/step - loss: 0.2606 - acc: 0.8936 - val_loss: 0.3258 - val_acc: 0.8748\n",
      "Epoch 6/8\n",
      "27889/27889 [==============================] - 82s 3ms/step - loss: 0.2441 - acc: 0.9015 - val_loss: 0.3193 - val_acc: 0.8778\n",
      "Epoch 7/8\n",
      "27889/27889 [==============================] - 81s 3ms/step - loss: 0.2309 - acc: 0.9076 - val_loss: 0.3259 - val_acc: 0.8690\n",
      "Epoch 8/8\n",
      "27889/27889 [==============================] - 81s 3ms/step - loss: 0.2190 - acc: 0.9121 - val_loss: 0.3029 - val_acc: 0.8811\n",
      "12396/12396 [==============================] - 10s 800us/step\n"
     ]
    }
   ],
   "source": [
    "history = model.fit(X_train, y_train, batch_size=128, epochs=8, verbose=1, validation_split=0.25)\n",
    "\n",
    "score = model.evaluate(X_test, y_test, verbose=1)"
   ]
  },
  {
   "cell_type": "code",
   "execution_count": 45,
   "metadata": {},
   "outputs": [
    {
     "name": "stdout",
     "output_type": "stream",
     "text": [
      "Test Score: 0.3047909043169129\n",
      "Test Accuracy: 0.8834301233291626\n"
     ]
    }
   ],
   "source": [
    "print(\"Test Score:\", score[0])\n",
    "print(\"Test Accuracy:\", score[1])"
   ]
  },
  {
   "cell_type": "code",
   "execution_count": 46,
   "metadata": {},
   "outputs": [
    {
     "data": {
      "image/png": "[encoded data removed]",
      "text/plain": [
       "<Figure size 432x288 with 1 Axes>"
      ]
     },
     "metadata": {
      "needs_background": "light"
     },
     "output_type": "display_data"
    },
    {
     "data": {
      "image/png": "[encoded data removed]",
      "text/plain": [
       "<Figure size 432x288 with 1 Axes>"
      ]
     },
     "metadata": {
      "needs_background": "light"
     },
     "output_type": "display_data"
    }
   ],
   "source": [
    "plt.plot(history.history['acc'])\n",
    "plt.plot(history.history['val_acc'])\n",
    "\n",
    "plt.title('model accuracy')\n",
    "plt.ylabel('accuracy')\n",
    "plt.xlabel('epoch')\n",
    "plt.legend(['train','test'], loc = 'upper left')\n",
    "plt.show()\n",
    "\n",
    "plt.plot(history.history['loss'])\n",
    "plt.plot(history.history['val_loss'])\n",
    "\n",
    "plt.title('model loss')\n",
    "plt.ylabel('loss')\n",
    "plt.xlabel('epoch')\n",
    "plt.legend(['train','test'], loc = 'upper left')\n",
    "plt.show()"
   ]
  },
  {
   "cell_type": "code",
   "execution_count": 47,
   "metadata": {},
   "outputs": [
    {
     "data": {
      "text/plain": [
       "array([[0.9873042 ],\n",
       "       [0.9728291 ],\n",
       "       [0.7703489 ],\n",
       "       ...,\n",
       "       [0.9136884 ],\n",
       "       [0.41616827],\n",
       "       [0.49545264]], dtype=float32)"
      ]
     },
     "execution_count": 47,
     "metadata": {},
     "output_type": "execute_result"
    }
   ],
   "source": [
    "predictions = model.predict(X_test)\n",
    "predictions"
   ]
  },
  {
   "cell_type": "code",
   "execution_count": 48,
   "metadata": {},
   "outputs": [],
   "source": [
    "y_pred = (predictions > 0.5)"
   ]
  },
  {
   "cell_type": "code",
   "execution_count": 49,
   "metadata": {},
   "outputs": [
    {
     "data": {
      "text/plain": [
       "array([[ True],\n",
       "       [ True],\n",
       "       [ True],\n",
       "       ...,\n",
       "       [ True],\n",
       "       [False],\n",
       "       [False]])"
      ]
     },
     "execution_count": 49,
     "metadata": {},
     "output_type": "execute_result"
    }
   ],
   "source": [
    "y_pred"
   ]
  },
  {
   "cell_type": "code",
   "execution_count": 50,
   "metadata": {},
   "outputs": [
    {
     "data": {
      "text/plain": [
       "array([[5512,  682],\n",
       "       [ 763, 5439]], dtype=int64)"
      ]
     },
     "execution_count": 50,
     "metadata": {},
     "output_type": "execute_result"
    }
   ],
   "source": [
    "confusion_matrix(y_test, y_pred)"
   ]
  },
  {
   "cell_type": "code",
   "execution_count": 51,
   "metadata": {},
   "outputs": [
    {
     "name": "stdout",
     "output_type": "stream",
     "text": [
      "Accuracy is  88.34 %: \n",
      "\n",
      "F1 Score: 88.27\n",
      "\n",
      "COnfusion Matrix:\n",
      " [[5512  682]\n",
      " [ 763 5439]]\n"
     ]
    }
   ],
   "source": [
    "print((\"Accuracy is  {:.2f} %: \".format(accuracy_score(y_test, y_pred) * 100)))\n",
    "print(\"\\nF1 Score: {:.2f}\".format(f1_score(y_test, y_pred) * 100))\n",
    "print(\"\\nCOnfusion Matrix:\\n\", confusion_matrix(y_test, y_pred))"
   ]
  },
  {
   "cell_type": "code",
   "execution_count": 52,
   "metadata": {},
   "outputs": [
    {
     "name": "stdout",
     "output_type": "stream",
     "text": [
      "Classification Report : \n",
      "               precision    recall  f1-score   support\n",
      "\n",
      "           0       0.88      0.89      0.88      6194\n",
      "           1       0.89      0.88      0.88      6202\n",
      "\n",
      "    accuracy                           0.88     12396\n",
      "   macro avg       0.88      0.88      0.88     12396\n",
      "weighted avg       0.88      0.88      0.88     12396\n",
      "\n"
     ]
    }
   ],
   "source": [
    "print(\"Classification Report : \\n\",classification_report(y_test, y_pred))"
   ]
  },
  {
   "cell_type": "code",
   "execution_count": 53,
   "metadata": {},
   "outputs": [
    {
     "data": {
      "text/plain": [
       "<matplotlib.axes._subplots.AxesSubplot at 0x214cc3e8ec8>"
      ]
     },
     "execution_count": 53,
     "metadata": {},
     "output_type": "execute_result"
    },
    {
     "data": {
      "image/png": "[encoded data removed]",
      "text/plain": [
       "<Figure size 432x288 with 2 Axes>"
      ]
     },
     "metadata": {
      "needs_background": "light"
     },
     "output_type": "display_data"
    }
   ],
   "source": [
    "sns.heatmap(confusion_matrix(y_test,y_pred),annot=True,fmt='d',cmap='Blues')"
   ]
  },
  {
   "cell_type": "code",
   "execution_count": 54,
   "metadata": {},
   "outputs": [
    {
     "data": {
      "text/plain": [
       "0.8834343072849207"
      ]
     },
     "execution_count": 54,
     "metadata": {},
     "output_type": "execute_result"
    }
   ],
   "source": [
    "roc_auc_score(y_test, y_pred)"
   ]
  },
  {
   "cell_type": "code",
   "execution_count": 41,
   "metadata": {},
   "outputs": [
    {
     "data": {
      "text/plain": [
       "<matplotlib.legend.Legend at 0x1d34067cc48>"
      ]
     },
     "execution_count": 41,
     "metadata": {},
     "output_type": "execute_result"
    },
    {
     "data": {
      "image/png": "[encoded data removed]",
      "text/plain": [
       "<Figure size 432x288 with 1 Axes>"
      ]
     },
     "metadata": {
      "needs_background": "light"
     },
     "output_type": "display_data"
    }
   ],
   "source": [
    "precision, recall, thresholds = precision_recall_curve(y_test, y_pred)\n",
    "plt.plot(precision, recall, label='Precision-recall curve')\n",
    "plt.xlabel('Precision')\n",
    "plt.ylabel('Recall')\n",
    "plt.title('Precision-recall curve')\n",
    "plt.xlim([0.735, 1])\n",
    "plt.ylim([0, 1.02])\n",
    "plt.legend(loc=\"lower left\")"
   ]
  },
  {
   "cell_type": "code",
   "execution_count": 42,
   "metadata": {},
   "outputs": [
    {
     "data": {
      "text/plain": [
       "<matplotlib.legend.Legend at 0x1d3406e95c8>"
      ]
     },
     "execution_count": 42,
     "metadata": {},
     "output_type": "execute_result"
    },
    {
     "data": {
      "image/png": "[encoded data removed]",
      "text/plain": [
       "<Figure size 432x288 with 1 Axes>"
      ]
     },
     "metadata": {
      "needs_background": "light"
     },
     "output_type": "display_data"
    }
   ],
   "source": [
    "fpr, tpr, thresholds = roc_curve(y_test, y_pred)\n",
    "plt.plot(fpr, tpr, label='ROC curve')\n",
    "plt.plot([0, 1], [0, 1], 'k--', label='Random guess')\n",
    "plt.xlabel('False Positive Rate')\n",
    "plt.ylabel('True Positive Rate')\n",
    "plt.title('ROC Curve')\n",
    "plt.xlim([-0.02, 1])\n",
    "plt.ylim([0, 1.02])\n",
    "plt.legend(loc=\"lower right\")"
   ]
  },
  {
   "cell_type": "code",
   "execution_count": null,
   "metadata": {},
   "outputs": [],
   "source": []
  }
 ],
 "metadata": {
  "kernelspec": {
   "display_name": "Python 3",
   "language": "python",
   "name": "python3"
  },
  "language_info": {
   "codemirror_mode": {
    "name": "ipython",
    "version": 3
   },
   "file_extension": ".py",
   "mimetype": "text/x-python",
   "name": "python",
   "nbconvert_exporter": "python",
   "pygments_lexer": "ipython3",
   "version": "3.7.4"
  }
 },
 "nbformat": 4,
 "nbformat_minor": 4
}
